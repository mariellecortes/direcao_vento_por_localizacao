{
  "nbformat": 4,
  "nbformat_minor": 0,
  "metadata": {
    "colab": {
      "provenance": [],
      "authorship_tag": "ABX9TyO902RAIEq8D++GIM+hmEcI",
      "include_colab_link": true
    },
    "kernelspec": {
      "name": "python3",
      "display_name": "Python 3"
    },
    "language_info": {
      "name": "python"
    }
  },
  "cells": [
    {
      "cell_type": "markdown",
      "metadata": {
        "id": "view-in-github",
        "colab_type": "text"
      },
      "source": [
        "<a href=\"https://colab.research.google.com/github/mariellecortes/direcao_vento_por_localizacao/blob/main/find_wind_direction_by_location.ipynb\" target=\"_parent\"><img src=\"https://colab.research.google.com/assets/colab-badge.svg\" alt=\"Open In Colab\"/></a>"
      ]
    },
    {
      "cell_type": "code",
      "execution_count": 1,
      "metadata": {
        "id": "FzwOaDjKAPtc"
      },
      "outputs": [],
      "source": [
        "import pandas as pd\n",
        "import json\n",
        "import requests\n",
        "import urllib.parse\n",
        "import statistics\n",
        "import matplotlib.pyplot as plt\n",
        "import numpy as np\n",
        "import math"
      ]
    },
    {
      "cell_type": "code",
      "source": [
        "print(\"Digite o endereço completo(rua,número,bairro,cidade,cep) ao qual deseja consultar a direção do vento:\")\n",
        "address = input()"
      ],
      "metadata": {
        "colab": {
          "base_uri": "https://localhost:8080/"
        },
        "id": "jNXfnyOJn8df",
        "outputId": "dd2fc50e-a4b9-457e-aac8-f672778c363e"
      },
      "execution_count": 2,
      "outputs": [
        {
          "name": "stdout",
          "output_type": "stream",
          "text": [
            "Digite o endereço completo(rua,número,bairro,cidade,cep) ao qual deseja consultar a direção do vento:\n",
            "Av. Paulista, 1578 - Bela Vista, São Paulo - SP, 01310-200\n"
          ]
        }
      ]
    },
    {
      "cell_type": "code",
      "source": [
        "url_openstreet = 'https://nominatim.openstreetmap.org/search/'+urllib.parse.quote(address)+'?format=json'\n",
        "\n",
        "response_openstreet = requests.get(url_openstreet).json()\n",
        "latitude = response_openstreet[0][\"lat\"]\n",
        "longitude = response_openstreet[0][\"lon\"]"
      ],
      "metadata": {
        "id": "9hjIk1zHAWm1"
      },
      "execution_count": 3,
      "outputs": []
    },
    {
      "cell_type": "code",
      "source": [
        "json_params = {\"lat\":latitude,\n",
        "               \"lon\":longitude,\n",
        "               \"model\": \"gfs\",\n",
        "               \"parameters\":[\"wind\"],\n",
        "               \"key\":\"Uy8avEITbo8LjzJa699WKcJOFiQ9BNDY\"}\n",
        "\n",
        "header = {\"Content-Type\" :\"application/json\"}\n",
        "url_windy = 'https://api.windy.com/api/point-forecast/v2'\n",
        "response_windy = requests.post(url_windy,json=json_params,headers=header )\n",
        "\n",
        "wind_u = response_windy.json()[\"wind_u-surface\"]\n",
        "wind_u_avg = statistics.mean(wind_u)\n",
        "\n",
        "wind_v = response_windy.json()[\"wind_v-surface\"]\n",
        "wind_v_avg = statistics.mean(wind_v)\n",
        "\n",
        "vector = [wind_u_avg,wind_v_avg]\n",
        "vector"
      ],
      "metadata": {
        "colab": {
          "base_uri": "https://localhost:8080/"
        },
        "id": "oX8FVk4bBKTH",
        "outputId": "8e933613-8487-4d75-dadc-b9e78a7ba97c"
      },
      "execution_count": 4,
      "outputs": [
        {
          "output_type": "execute_result",
          "data": {
            "text/plain": [
              "[-1.3478682821131123, 0.9111752677999322]"
            ]
          },
          "metadata": {},
          "execution_count": 4
        }
      ]
    },
    {
      "cell_type": "code",
      "source": [
        "def return_wind_direction(angle):\n",
        "  wind_angle = {\"N\":0,\"NNE\":22.5,\"NE\":45,\"ENE\":67.5,\"E\":90,\"ESE\":112.5,\"SE\":135,\"SSE\":157.5,\"S\":180,\\\n",
        "                \"SSW\":202.5,\"SW\":225,\"WSW\":247.5,\"W\":270,\"WNW\":292.5,\"NW\":315,\"NNW\":337.5}\n",
        "\n",
        "  if vector_angle >= wind_angle[\"N\"] and vector_angle < wind_angle[\"NNE\"]:\n",
        "    wind_direction = \"Vento NORTE\"\n",
        "  elif vector_angle >= wind_angle[\"NNE\"] and vector_angle < wind_angle[\"NE\"]:\n",
        "    wind_direction = \"Vento NOR-NORDESTE\"\n",
        "  elif vector_angle >= wind_angle[\"NE\"] and vector_angle < wind_angle[\"ENE\"]:\n",
        "    wind_direction = \"Vento NORDESTE\"\n",
        "  elif vector_angle >= wind_angle[\"ENE\"] and vector_angle < wind_angle[\"E\"]:\n",
        "    wind_direction = \"Vento LESTE-NORDESTE\"\n",
        "  elif vector_angle >= wind_angle[\"E\"] and vector_angle < wind_angle[\"ESE\"]:\n",
        "    wind_direction = \"Vento LESTE\"\n",
        "  elif vector_angle >= wind_angle[\"ESE\"] and vector_angle < wind_angle[\"SE\"]:\n",
        "    wind_direction = \"Vento LESTE-SUDESTE\"\n",
        "  elif vector_angle >= wind_angle[\"SE\"] and vector_angle < wind_angle[\"SSE\"]:\n",
        "    wind_direction = \"Vento SUDESTE\"\n",
        "  elif vector_angle >= wind_angle[\"SSE\"] and vector_angle < wind_angle[\"S\"]:\n",
        "    wind_direction = \"Vento SUL-SUDESTE\"\n",
        "  elif vector_angle >= wind_angle[\"S\"] and vector_angle < wind_angle[\"SSW\"]:\n",
        "    wind_direction = \"Vento SUL\"\n",
        "  elif vector_angle >= wind_angle[\"SSW\"] and vector_angle < wind_angle[\"SW\"]:\n",
        "    wind_direction = \"Vento SUL-SUDOESTE\"\n",
        "  elif vector_angle >= wind_angle[\"SW\"] and vector_angle < wind_angle[\"WSW\"]:\n",
        "    wind_direction = \"Vento SUDOESTE\"\n",
        "  elif vector_angle >= wind_angle[\"WSW\"] and vector_angle < wind_angle[\"W\"]:\n",
        "    wind_direction = \"Vento OESTE-SUDOESTE\"\n",
        "  elif vector_angle >= wind_angle[\"W\"] and vector_angle < wind_angle[\"WNW\"]:\n",
        "    wind_direction = \"Vento OESTE\"\n",
        "  elif vector_angle >= wind_angle[\"WNW\"] and vector_angle < wind_angle[\"NW\"]:\n",
        "    wind_direction = \"Vento OESTE-NOROESTE\"\n",
        "  elif vector_angle >= wind_angle[\"NW\"] and vector_angle < wind_angle[\"NNW\"]:\n",
        "    wind_direction = \"Vento NOROESTE\"\n",
        "  else:\n",
        "    wind_direction = \"Vento NOR-NOROESTE\"\n",
        "\n",
        "  return str(wind_direction)"
      ],
      "metadata": {
        "id": "jwmy7FqzYvP1"
      },
      "execution_count": 5,
      "outputs": []
    },
    {
      "cell_type": "code",
      "source": [
        "vector_angle = math.degrees(math.atan2(vector[:1][0],vector[1:][0]))\n",
        "print(f\"Para essa localização há a incidência de {return_wind_direction(vector_angle)}\")\n",
        "print(\"\\n\")\n",
        "plt.figure(figsize=(5,2), dpi=100)\n",
        "plt.quiver(0,0,vector[:1][0],vector[1:][0],color='b')"
      ],
      "metadata": {
        "colab": {
          "base_uri": "https://localhost:8080/",
          "height": 285
        },
        "id": "ScdvuiHagP3W",
        "outputId": "2a4aeeda-aced-4e2c-db2d-acaa93c37372"
      },
      "execution_count": 6,
      "outputs": [
        {
          "output_type": "stream",
          "name": "stdout",
          "text": [
            "Para essa localização há a incidência de Vento NOR-NOROESTE\n",
            "\n",
            "\n"
          ]
        },
        {
          "output_type": "execute_result",
          "data": {
            "text/plain": [
              "<matplotlib.quiver.Quiver at 0x7ff159409030>"
            ]
          },
          "metadata": {},
          "execution_count": 6
        },
        {
          "output_type": "display_data",
          "data": {
            "text/plain": [
              "<Figure size 500x200 with 1 Axes>"
            ],
            "image/png": "[encoded data removed]"
          },
          "metadata": {}
        }
      ]
    }
  ]
}